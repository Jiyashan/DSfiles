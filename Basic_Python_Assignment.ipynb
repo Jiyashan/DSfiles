{
  "nbformat": 4,
  "nbformat_minor": 0,
  "metadata": {
    "colab": {
      "provenance": []
    },
    "kernelspec": {
      "name": "python3",
      "display_name": "Python 3"
    },
    "language_info": {
      "name": "python"
    }
  },
  "cells": [
    {
      "cell_type": "markdown",
      "source": [
        "**Exercise 1:**\n",
        "\n",
        "**Write a Python program that checks whether a given number is prime or not**\n",
        "\n",
        "\n",
        "A positive integer greater than 1 which has no other factors except 1 and the number itself is called a prime number."
      ],
      "metadata": {
        "id": "zXtF8eyJO1Gp"
      }
    },
    {
      "cell_type": "code",
      "execution_count": 37,
      "metadata": {
        "colab": {
          "base_uri": "https://localhost:8080/"
        },
        "id": "CxkMKCklOvk5",
        "outputId": "a415b098-2dcc-4afe-b45a-a342dca9f7b4"
      },
      "outputs": [
        {
          "output_type": "stream",
          "name": "stdout",
          "text": [
            "Enter number:47\n",
            "47 is a prime number\n"
          ]
        }
      ],
      "source": [
        "num = int(input(\"Enter number:\"))\n",
        "flag = False\n",
        "if num == 1:\n",
        "  print(f\"{num} is not a prime number\")\n",
        "elif num>1:\n",
        "  # check for factors\n",
        "  for i in range(2,num):\n",
        "    if (num % i) == 0:\n",
        "      # if factors found the set flag = True\n",
        "      flag = True\n",
        "      # break out from the loop\n",
        "      break\n",
        "# check weather flag is true or false\n",
        "if flag:\n",
        "  print(num, \"is not a prime number\")\n",
        "else:\n",
        "  print(num, \"is a prime number\")\n",
        "\n"
      ]
    },
    {
      "cell_type": "markdown",
      "source": [
        "**Exercise 2: Product of Random Numbers**\n",
        "\n",
        "\n",
        "Develop a Python program that generates two random numbers and asks the user to enter the product of these numbers. The program should then check if the user's answer is correct and display an appropriate message.\n"
      ],
      "metadata": {
        "id": "vg2_C3ARS8Yw"
      }
    },
    {
      "cell_type": "code",
      "source": [
        "import random\n",
        "def random_num():\n",
        "  # Generate random numbers between 1 to 10\n",
        "  num1 = random.randint(1,10)\n",
        "  num2 = random.randint(1,10)\n",
        "# Calculate the product\n",
        "  product = num1 * num2\n",
        "\n",
        "  try:\n",
        "    # Ask the user to enter product of two numbers\n",
        "    user_ans = int(input(f\"What is {num1} * {num2}? \"))\n",
        "\n",
        "# check if the user answer is correct\n",
        "    if(user_ans == product):\n",
        "      print(\"That's the correct answer\")\n",
        "    else:\n",
        "      print(\"That's the wrong answer\")\n",
        "  except ValueError:\n",
        "    print(\"Please enter a valid number.\")\n",
        "\n",
        "# call/Run the fuction\n",
        "random_num()\n",
        "\n"
      ],
      "metadata": {
        "colab": {
          "base_uri": "https://localhost:8080/"
        },
        "id": "fTGOAJBjRCS5",
        "outputId": "a35f2863-6b76-4d23-da21-cffbf5ee11f5"
      },
      "execution_count": 38,
      "outputs": [
        {
          "output_type": "stream",
          "name": "stdout",
          "text": [
            "What is 5 * 3? 15\n",
            "That's the correct answer\n"
          ]
        }
      ]
    },
    {
      "cell_type": "markdown",
      "source": [
        "**Excercise 3**\n",
        "\n",
        "Create a Python script that prints the squares of all even or odd numbers within the range of 100 to 200. Choose either even or odd numbers and document your choice in the code."
      ],
      "metadata": {
        "id": "6r21ovztXEBr"
      }
    },
    {
      "cell_type": "code",
      "source": [
        "# For Even numbers\n",
        "\n",
        "# Define the range\n",
        "start = 100\n",
        "end = 200\n",
        "# Loop through the range and calculate the square of even numbers\n",
        "print(\"Squares of even numbers from 100 to 200:\")\n",
        "for num in range(start,end+1):\n",
        "  if(num%2 == 0):\n",
        "    square = num * num\n",
        "    print(f\"The squares of {num} is {square}\")"
      ],
      "metadata": {
        "colab": {
          "base_uri": "https://localhost:8080/"
        },
        "id": "YSsP2BaAUy3e",
        "outputId": "a85338ba-04cd-49ba-8295-e4802478b7c9"
      },
      "execution_count": 39,
      "outputs": [
        {
          "output_type": "stream",
          "name": "stdout",
          "text": [
            "Squares of even numbers from 100 to 200:\n",
            "The squares of 100 is 10000\n",
            "The squares of 102 is 10404\n",
            "The squares of 104 is 10816\n",
            "The squares of 106 is 11236\n",
            "The squares of 108 is 11664\n",
            "The squares of 110 is 12100\n",
            "The squares of 112 is 12544\n",
            "The squares of 114 is 12996\n",
            "The squares of 116 is 13456\n",
            "The squares of 118 is 13924\n",
            "The squares of 120 is 14400\n",
            "The squares of 122 is 14884\n",
            "The squares of 124 is 15376\n",
            "The squares of 126 is 15876\n",
            "The squares of 128 is 16384\n",
            "The squares of 130 is 16900\n",
            "The squares of 132 is 17424\n",
            "The squares of 134 is 17956\n",
            "The squares of 136 is 18496\n",
            "The squares of 138 is 19044\n",
            "The squares of 140 is 19600\n",
            "The squares of 142 is 20164\n",
            "The squares of 144 is 20736\n",
            "The squares of 146 is 21316\n",
            "The squares of 148 is 21904\n",
            "The squares of 150 is 22500\n",
            "The squares of 152 is 23104\n",
            "The squares of 154 is 23716\n",
            "The squares of 156 is 24336\n",
            "The squares of 158 is 24964\n",
            "The squares of 160 is 25600\n",
            "The squares of 162 is 26244\n",
            "The squares of 164 is 26896\n",
            "The squares of 166 is 27556\n",
            "The squares of 168 is 28224\n",
            "The squares of 170 is 28900\n",
            "The squares of 172 is 29584\n",
            "The squares of 174 is 30276\n",
            "The squares of 176 is 30976\n",
            "The squares of 178 is 31684\n",
            "The squares of 180 is 32400\n",
            "The squares of 182 is 33124\n",
            "The squares of 184 is 33856\n",
            "The squares of 186 is 34596\n",
            "The squares of 188 is 35344\n",
            "The squares of 190 is 36100\n",
            "The squares of 192 is 36864\n",
            "The squares of 194 is 37636\n",
            "The squares of 196 is 38416\n",
            "The squares of 198 is 39204\n",
            "The squares of 200 is 40000\n"
          ]
        }
      ]
    },
    {
      "cell_type": "code",
      "source": [
        "# For Odd numbers\n",
        "\n",
        "# Define the range\n",
        "start = 100\n",
        "end = 200\n",
        "# Loop through the range and calculate the square of odd numbers\n",
        "print(\"Squares of odd numbers from 100 to 200:\")\n",
        "for num in range(start,end+1):\n",
        "  if(num%2 != 0):\n",
        "    square = num * num\n",
        "    print(f\"The squares of {num} is {square}\")"
      ],
      "metadata": {
        "colab": {
          "base_uri": "https://localhost:8080/"
        },
        "id": "9y7_AbguYCmn",
        "outputId": "6247feb3-0448-4b43-82c2-5b036d7a2cbf"
      },
      "execution_count": 40,
      "outputs": [
        {
          "output_type": "stream",
          "name": "stdout",
          "text": [
            "Squares of odd numbers from 100 to 200:\n",
            "The squares of 101 is 10201\n",
            "The squares of 103 is 10609\n",
            "The squares of 105 is 11025\n",
            "The squares of 107 is 11449\n",
            "The squares of 109 is 11881\n",
            "The squares of 111 is 12321\n",
            "The squares of 113 is 12769\n",
            "The squares of 115 is 13225\n",
            "The squares of 117 is 13689\n",
            "The squares of 119 is 14161\n",
            "The squares of 121 is 14641\n",
            "The squares of 123 is 15129\n",
            "The squares of 125 is 15625\n",
            "The squares of 127 is 16129\n",
            "The squares of 129 is 16641\n",
            "The squares of 131 is 17161\n",
            "The squares of 133 is 17689\n",
            "The squares of 135 is 18225\n",
            "The squares of 137 is 18769\n",
            "The squares of 139 is 19321\n",
            "The squares of 141 is 19881\n",
            "The squares of 143 is 20449\n",
            "The squares of 145 is 21025\n",
            "The squares of 147 is 21609\n",
            "The squares of 149 is 22201\n",
            "The squares of 151 is 22801\n",
            "The squares of 153 is 23409\n",
            "The squares of 155 is 24025\n",
            "The squares of 157 is 24649\n",
            "The squares of 159 is 25281\n",
            "The squares of 161 is 25921\n",
            "The squares of 163 is 26569\n",
            "The squares of 165 is 27225\n",
            "The squares of 167 is 27889\n",
            "The squares of 169 is 28561\n",
            "The squares of 171 is 29241\n",
            "The squares of 173 is 29929\n",
            "The squares of 175 is 30625\n",
            "The squares of 177 is 31329\n",
            "The squares of 179 is 32041\n",
            "The squares of 181 is 32761\n",
            "The squares of 183 is 33489\n",
            "The squares of 185 is 34225\n",
            "The squares of 187 is 34969\n",
            "The squares of 189 is 35721\n",
            "The squares of 191 is 36481\n",
            "The squares of 193 is 37249\n",
            "The squares of 195 is 38025\n",
            "The squares of 197 is 38809\n",
            "The squares of 199 is 39601\n"
          ]
        }
      ]
    },
    {
      "cell_type": "markdown",
      "source": [
        "**Exercise 4: Word counter**\n",
        "\n",
        "write a program to count the number of words in a given text.\n",
        "\n",
        "\n",
        "example:\n",
        "input_text = \"This is a sample text. This text will be used to demonstrate the word counter.\"\n",
        "\n",
        "\n",
        "Expected output:\n",
        "'This': 2\n",
        "'is': 1\n",
        "'a': 1\n"
      ],
      "metadata": {
        "id": "iIsrDQ1Yag9U"
      }
    },
    {
      "cell_type": "code",
      "source": [
        "def count_words(input_text):\n",
        "\n",
        "# Convert the text to lowercase to ensure case-insensitive counting\n",
        "  input_text = input_text.lower()\n",
        "\n",
        "    # Remove punctuation from the text\n",
        "  punctuations = \".,!?;:\"\n",
        "  for char in punctuations:\n",
        "    input_text = input_text.replace(char, \"\")\n",
        "\n",
        "    # Split the text into words\n",
        "  words = input_text.split()\n",
        "\n",
        "    # Create a dictionary to store word counts\n",
        "  word_counts = {}\n",
        "\n",
        "    # Count the occurrences of each word\n",
        "  for word in words:\n",
        "    if word in word_counts:\n",
        "      word_counts[word] += 1\n",
        "    else:\n",
        "      word_counts[word] = 1\n",
        "\n",
        "    # Print the word counts\n",
        "  for word, count in word_counts.items():\n",
        "    print(f\"'{word}': {count}\")\n",
        "\n",
        "# Example input text\n",
        "input_text = \"This is a sample text. This text will be used to demonstrate the word counter.\"\n",
        "\n",
        "# Call the function with the example text\n",
        "count_words(input_text)\n"
      ],
      "metadata": {
        "colab": {
          "base_uri": "https://localhost:8080/"
        },
        "id": "haEWjS8xdW-L",
        "outputId": "06e032de-6a66-44d5-a6e5-1e5b4d7ce01b"
      },
      "execution_count": 41,
      "outputs": [
        {
          "output_type": "stream",
          "name": "stdout",
          "text": [
            "'this': 2\n",
            "'is': 1\n",
            "'a': 1\n",
            "'sample': 1\n",
            "'text': 2\n",
            "'will': 1\n",
            "'be': 1\n",
            "'used': 1\n",
            "'to': 1\n",
            "'demonstrate': 1\n",
            "'the': 1\n",
            "'word': 1\n",
            "'counter': 1\n"
          ]
        }
      ]
    },
    {
      "cell_type": "markdown",
      "source": [
        "**Exercise 5: Check for Palindrome**\n",
        "\n",
        "\n",
        "Write a Python function called is_palindrome that takes a string as input and returns True if the string is a palindrome, and False otherwise.\n",
        "\n",
        "A palindrome is a word, phrase, number, or other sequence of characters that reads the same forward and backward"
      ],
      "metadata": {
        "id": "4HINVitDfqao"
      }
    },
    {
      "cell_type": "code",
      "source": [
        "str = input(\"Enter string:\")\n",
        "def is_palindrome(str):\n",
        "  #  Remove spaces and convert the string to uppercase\n",
        "  new_string= str.replace(\" \", \"\").upper()\n",
        "  # Reverse the string\n",
        "  reverse_string= new_string[::-1]\n",
        "  # check if new string is equal to reverse string\n",
        "  if new_string==reverse_string:\n",
        "    return True\n",
        "  else:\n",
        "    return False\n",
        "# call the function and print the result\n",
        "print(is_palindrome(str))\n",
        "\n"
      ],
      "metadata": {
        "colab": {
          "base_uri": "https://localhost:8080/"
        },
        "id": "lTvnsBf4fbT3",
        "outputId": "fa81b5c9-df04-4cd6-f328-9483f86484a3"
      },
      "execution_count": 45,
      "outputs": [
        {
          "output_type": "stream",
          "name": "stdout",
          "text": [
            "Enter string:racecar\n",
            "True\n"
          ]
        }
      ]
    },
    {
      "cell_type": "code",
      "source": [],
      "metadata": {
        "id": "CrUcq7Etk_aS"
      },
      "execution_count": 44,
      "outputs": []
    }
  ]
}